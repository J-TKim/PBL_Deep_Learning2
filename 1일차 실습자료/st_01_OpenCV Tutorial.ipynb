{
 "cells": [
  {
   "cell_type": "markdown",
   "metadata": {},
   "source": [
    "# OpenCV Tutorial: A Guide to Learn OpenCV "
   ]
  },
  {
   "cell_type": "code",
   "execution_count": null,
   "metadata": {},
   "outputs": [],
   "source": [
    "from google.colab import drive\n",
    "\n",
    "drive.mount('/content/gdrive/')"
   ]
  },
  {
   "cell_type": "code",
   "execution_count": null,
   "metadata": {},
   "outputs": [],
   "source": [
    "cd gdrive/My\\ Drive/Colab\\ Notebooks/dl_vision"
   ]
  },
  {
   "cell_type": "markdown",
   "metadata": {},
   "source": [
    "### Loading and displaying an image"
   ]
  },
  {
   "cell_type": "markdown",
   "metadata": {},
   "source": [
    "opencv imread 메서드로 로드한 image는 실제로 NumPy 배열입니다.\n",
    "\n",
    "image.shape을 호출하여 높이, 너비, 깊이를 추출합니다.\n",
    "* 행의 수는 높이\n",
    "* 열의 수는 너비\n",
    "* 깊이는 채널 수"
   ]
  },
  {
   "cell_type": "code",
   "execution_count": null,
   "metadata": {},
   "outputs": [],
   "source": [
    "%matplotlib inline\n",
    "import matplotlib.pyplot as plt\n",
    "import imutils\n",
    "import cv2"
   ]
  },
  {
   "cell_type": "code",
   "execution_count": null,
   "metadata": {},
   "outputs": [],
   "source": [
    "# insert code."
   ]
  },
  {
   "cell_type": "code",
   "execution_count": null,
   "metadata": {},
   "outputs": [],
   "source": [
    "print(\"width={}, height={}, depth={}\".format(w, h, d))\n",
    "\n",
    "plt.imshow(image[:, :])"
   ]
  },
  {
   "cell_type": "markdown",
   "metadata": {},
   "source": [
    "### Accessing individual pixels"
   ]
  },
  {
   "cell_type": "markdown",
   "metadata": {},
   "source": [
    "색상 순서는 RGB가 아닌 BGR 입니다. 이것은 OpenCV가 처음 개발되었을 때 수년 전에 표준이 BGR 순서이었기 때문입니다. 수년에 걸쳐 이 표준은 이제 RGB가 되었지만 OpenCV는 기존 코드와의 호환성을 위해 이 “레거시” BGR 순서를 유지합니다."
   ]
  },
  {
   "cell_type": "code",
   "execution_count": null,
   "metadata": {},
   "outputs": [],
   "source": [
    "(B, G, R) = image[100, 50]\n",
    "\n",
    "print(\"R={}, G={}, B={}\".format(R, G, B))"
   ]
  },
  {
   "cell_type": "markdown",
   "metadata": {},
   "source": [
    "### Array slicing and cropping"
   ]
  },
  {
   "cell_type": "markdown",
   "metadata": {},
   "source": [
    "“관심 영역”(ROI)을 추출하는 것은 이미지 처리에 중요한 기술입니다.\n",
    "\n",
    "배열 슬라이스는 image[startY:endY, startX:endX] 형식으로 작성합니다."
   ]
  },
  {
   "cell_type": "code",
   "execution_count": null,
   "metadata": {},
   "outputs": [],
   "source": [
    "# width : 320 to 420, height : 60 to 160"
   ]
  },
  {
   "cell_type": "markdown",
   "metadata": {},
   "source": [
    "### Resizing images"
   ]
  },
  {
   "cell_type": "markdown",
   "metadata": {},
   "source": [
    "먼저, 이미지 종횡비를 무시하고 크기를 조정해보겠습니다.     \n",
    "\n",
    "가로 세로 비율을 고려하지 않았기 때문에 왜곡되었습니다."
   ]
  },
  {
   "cell_type": "code",
   "execution_count": null,
   "metadata": {},
   "outputs": [],
   "source": [
    "# resize the image to 200x200px, ignoring aspect ratio"
   ]
  },
  {
   "cell_type": "markdown",
   "metadata": {},
   "source": [
    "새로운 너비와 이전 너비의 비율을 계산합니다."
   ]
  },
  {
   "cell_type": "code",
   "execution_count": null,
   "metadata": {},
   "outputs": [],
   "source": [
    "# 종횡비를 고려해서 이미지 변환. width를 300으로 변환."
   ]
  },
  {
   "cell_type": "code",
   "execution_count": null,
   "metadata": {},
   "outputs": [],
   "source": []
  },
  {
   "cell_type": "code",
   "execution_count": null,
   "metadata": {},
   "outputs": [],
   "source": [
    "resized = cv2.resize(image, dim)\n",
    "\n",
    "plt.imshow(resized[:, :, ::-1])"
   ]
  },
  {
   "cell_type": "markdown",
   "metadata": {},
   "source": [
    "이미지 크기를 조정할 때마다 가로 세로 비율을 계산하는 것은 imutils 내의 함수에 코드를 래핑되어 있습니다."
   ]
  },
  {
   "cell_type": "code",
   "execution_count": null,
   "metadata": {},
   "outputs": [],
   "source": [
    "resized = imutils.resize(image, width=300)\n",
    "\n",
    "plt.imshow(resized[:, :, ::-1])"
   ]
  },
  {
   "cell_type": "markdown",
   "metadata": {},
   "source": [
    "### Rotating an image"
   ]
  },
  {
   "cell_type": "markdown",
   "metadata": {},
   "source": [
    "중심점을 기준으로 이미지를 회전하려면 먼저 이미지의 중심 (x, y) 좌표를 계산해야 합니다.\n",
    "\n",
    "참고 : 정수 계산 (즉, 부동 소수점 값 없음)을 수행하기 위해 //를 사용합니다."
   ]
  },
  {
   "cell_type": "code",
   "execution_count": null,
   "metadata": {},
   "outputs": [],
   "source": [
    "center = (w // 2, h // 2)\n",
    "M = cv2.getRotationMatrix2D(center, -45, 1.0)\n",
    "rotated = cv2.warpAffine(image, M, (w, h))\n",
    "\n",
    "plt.imshow(rotated[:, :, ::-1])"
   ]
  },
  {
   "cell_type": "markdown",
   "metadata": {},
   "source": [
    "이제 imutils를 사용하여 한 줄의 코드로 동일한 작업을 수행해 보겠습니다."
   ]
  },
  {
   "cell_type": "code",
   "execution_count": null,
   "metadata": {},
   "outputs": [],
   "source": [
    "rotated = imutils.rotate(image, -45)\n",
    "\n",
    "plt.imshow(rotated[:, :, ::-1])"
   ]
  },
  {
   "cell_type": "markdown",
   "metadata": {},
   "source": [
    "OpenCV는 회전 후에 이미지가 잘리고 보이지 않더라도 고려하지 않습니다. 이 작업은 매우 번거롭기 때문에 여기 전체 이미지를 볼 수 있는 imutils 버전이 있습니다. 이를 rotate_bound라고 부릅니다."
   ]
  },
  {
   "cell_type": "code",
   "execution_count": null,
   "metadata": {},
   "outputs": [],
   "source": [
    "rotated = imutils.rotate_bound(image, 45)\n",
    "\n",
    "plt.imshow(rotated[:, :, ::-1])"
   ]
  },
  {
   "cell_type": "markdown",
   "metadata": {},
   "source": [
    "### Smoothing an image"
   ]
  },
  {
   "cell_type": "markdown",
   "metadata": {},
   "source": [
    "많은 이미지 처리 파이프 라인에서 **고주파 노이즈를 줄이기 위해 이미지를 흐리게 처리(blur)**해야 알고리즘이 노이즈가 아닌 이미지의 실제 내용을 보다 쉽게 감지하고 이해할 수 있습니다. "
   ]
  },
  {
   "cell_type": "code",
   "execution_count": null,
   "metadata": {},
   "outputs": [],
   "source": [
    "# apply a Gaussian blur with a 11x11 kernel to the image to smooth it,\n",
    "# useful when reducing high frequency noise"
   ]
  },
  {
   "cell_type": "markdown",
   "metadata": {},
   "source": [
    "### Drawing on an image"
   ]
  },
  {
   "cell_type": "markdown",
   "metadata": {},
   "source": [
    "입력 이미지에 직사각형, 원, 선을 그립니다. 또한 이미지 위에 텍스트를 오버레이 합니다."
   ]
  },
  {
   "cell_type": "markdown",
   "metadata": {},
   "source": [
    "Drawing Rectangle"
   ]
  },
  {
   "cell_type": "code",
   "execution_count": null,
   "metadata": {},
   "outputs": [],
   "source": [
    "output = image.copy()"
   ]
  },
  {
   "cell_type": "code",
   "execution_count": null,
   "metadata": {},
   "outputs": [],
   "source": [
    "# draw a 2px thick red rectangle surrounding the face\n",
    "# top-left point (320, 60), bottom-right(420, 160)\n",
    "# color red, line thickness 2\n",
    "\n",
    "# insert code\n",
    "#cv2.rectangle(output, ...)"
   ]
  },
  {
   "cell_type": "code",
   "execution_count": null,
   "metadata": {},
   "outputs": [],
   "source": [
    "plt.imshow(output[:, :, ::-1])"
   ]
  },
  {
   "cell_type": "markdown",
   "metadata": {},
   "source": [
    "Drawing Circle"
   ]
  },
  {
   "cell_type": "code",
   "execution_count": null,
   "metadata": {},
   "outputs": [],
   "source": [
    "output = image.copy()"
   ]
  },
  {
   "cell_type": "code",
   "execution_count": null,
   "metadata": {},
   "outputs": [],
   "source": [
    "# draw a blue 20px (filled in) circle on the image centered at x=300, y=150\n",
    "# color blue, line thickness 2 (-1 is fullfill)\n",
    "\n",
    "# insert code\n",
    "#cv2.circle(output, ...)"
   ]
  },
  {
   "cell_type": "code",
   "execution_count": null,
   "metadata": {},
   "outputs": [],
   "source": [
    "plt.imshow(output[:, :, ::-1])"
   ]
  },
  {
   "cell_type": "markdown",
   "metadata": {},
   "source": [
    "Drawing Line"
   ]
  },
  {
   "cell_type": "code",
   "execution_count": null,
   "metadata": {},
   "outputs": [],
   "source": [
    "output = image.copy()"
   ]
  },
  {
   "cell_type": "code",
   "execution_count": null,
   "metadata": {},
   "outputs": [],
   "source": [
    "# draw a 5px thick red line from x=60,y=20 to x=400,y=200\n",
    "# color green, line thickness 5 \n",
    "\n",
    "# insert code\n",
    "#cv2.line(output, ...)"
   ]
  },
  {
   "cell_type": "code",
   "execution_count": null,
   "metadata": {},
   "outputs": [],
   "source": [
    "plt.imshow(output[:, :, ::-1])"
   ]
  },
  {
   "cell_type": "markdown",
   "metadata": {},
   "source": [
    "OpenCV의 putText 함수는 이미지에 텍스트를 그립니다. "
   ]
  },
  {
   "cell_type": "code",
   "execution_count": null,
   "metadata": {},
   "outputs": [],
   "source": [
    "output = image.copy()\n",
    "text = \"OpenCV + Jurassic Park!!!\""
   ]
  },
  {
   "cell_type": "code",
   "execution_count": null,
   "metadata": {},
   "outputs": [],
   "source": [
    "# draw green text on the image\n",
    "# Bottom-left corner x=10, y=25\n",
    "# fontFace = cv2.FONT_HERSHEY_SIMPLEX\n",
    "# fontScale = 0.7, color is green, thickness is 2\n",
    "\n",
    "# insert code\n",
    "#cv2.putText(output, ...);"
   ]
  },
  {
   "cell_type": "code",
   "execution_count": null,
   "metadata": {},
   "outputs": [],
   "source": [
    "plt.imshow(output[:, :, ::-1])"
   ]
  },
  {
   "cell_type": "markdown",
   "metadata": {},
   "source": [
    "## Counting objects\n",
    "\n",
    "다음 몇 섹션에서는 간단한 Python + OpenCV 스크립트를 작성하여 다음 이미지에서 Tetris 블록 수를 계산하는 방법을 학습합니다.\n",
    "\n",
    "여기서 다음의 방법들을 살펴볼 것입니다.\n",
    "\n",
    "* OpenCV로 이미지를 그레이 스케일로 변환하는 방법 배우기\n",
    "* 가장자리 감지 수행하기\n",
    "* 그레이 스케일 이미지의 임계 값 설정\n",
    "* 윤곽선 찾기, 카운팅, 그리기\n",
    "* 침식(erosion)과 팽창(dilation) 수행\n",
    "* 이미지 마스킹"
   ]
  },
  {
   "cell_type": "code",
   "execution_count": null,
   "metadata": {},
   "outputs": [],
   "source": [
    "import imutils\n",
    "import cv2"
   ]
  },
  {
   "cell_type": "code",
   "execution_count": null,
   "metadata": {},
   "outputs": [],
   "source": [
    "args = {'image' : 'tetris_blocks.png'}"
   ]
  },
  {
   "cell_type": "markdown",
   "metadata": {},
   "source": [
    "### Converting an image to grayscale"
   ]
  },
  {
   "cell_type": "markdown",
   "metadata": {},
   "source": [
    "cv2.cvtColor를 호출하고 image와 cv2.COLOR_BGR2GRAY 플래그를 제공하여 이미지를 그레이 스케일로 변환합니다."
   ]
  },
  {
   "cell_type": "code",
   "execution_count": null,
   "metadata": {},
   "outputs": [],
   "source": [
    "image = cv2.imread('tetris_blocks.png')\n",
    "\n",
    "plt.imshow(image[:, :, ::-1])"
   ]
  },
  {
   "cell_type": "code",
   "execution_count": null,
   "metadata": {},
   "outputs": [],
   "source": [
    "# using cv2.cvtColor method"
   ]
  },
  {
   "cell_type": "markdown",
   "metadata": {},
   "source": [
    "### Edge detection"
   ]
  },
  {
   "cell_type": "markdown",
   "metadata": {},
   "source": [
    "Edge detection는 이미지에서 객체의 경계를 찾는 데 유용하며 세분화(segmentation)에 효과적입니다."
   ]
  },
  {
   "cell_type": "code",
   "execution_count": null,
   "metadata": {},
   "outputs": [],
   "source": [
    "# using cv2.Canny method\n",
    "# minVal = 30, maxVal = 150\n",
    "\n",
    "#insert code\n",
    "#edged = cv2.Canny(gray, ...)"
   ]
  },
  {
   "cell_type": "code",
   "execution_count": null,
   "metadata": {},
   "outputs": [],
   "source": [
    "plt.imshow(edged, cmap='gray')"
   ]
  },
  {
   "cell_type": "markdown",
   "metadata": {},
   "source": [
    "### Thresholding"
   ]
  },
  {
   "cell_type": "markdown",
   "metadata": {},
   "source": [
    "이미지 thresholding은 이미지 처리 파이프 라인의 중요한 중개 단계입니다. 임계 값을 사용하면 밝거나 어두운 영역, 윤곽선을 제거하는 데 도움이 됩니다.\n",
    "\n",
    "* gray 이미지에서 225보다 큰 모든 픽셀을 잡아서 이미지의 배경에 해당하는 0 (검정)으로 설정합니다.\n",
    "* 이미지의 전경 (즉, Tetris 블록 자체)에 해당하는 225보다 큰 픽셀 값들을 255 (흰색)로 설정합니다.\n",
    "\n",
    "배경에서 전경을 이진 이미지로 세분화하는 것은 윤곽을 찾는 데 중요합니다 (다음 단계)."
   ]
  },
  {
   "cell_type": "code",
   "execution_count": null,
   "metadata": {},
   "outputs": [],
   "source": [
    "#thresh = cv2.threshold(gray, ...)"
   ]
  },
  {
   "cell_type": "code",
   "execution_count": null,
   "metadata": {},
   "outputs": [],
   "source": [
    "plt.imshow(thresh, cmap='gray')"
   ]
  },
  {
   "cell_type": "markdown",
   "metadata": {},
   "source": [
    "### Detecting and drawing contours"
   ]
  },
  {
   "cell_type": "markdown",
   "metadata": {},
   "source": [
    "cv2.findContours를 사용하여 이미지의 윤곽선을 감지합니다. \n",
    "\n",
    "알고리즘은 thresh.copy() 이미지에서 모든 전경 (흰색) 픽셀을 찾습니다.\n",
    "\n",
    "원본 이미지의 사본(output)을 만들고, 윤곽선을 그릴 수 있습니다."
   ]
  },
  {
   "cell_type": "code",
   "execution_count": null,
   "metadata": {},
   "outputs": [],
   "source": [
    "cnts = cv2.findContours(thresh.copy(), cv2.RETR_EXTERNAL,\n",
    "                                        cv2.CHAIN_APPROX_SIMPLE)\n",
    "cnts = imutils.grab_contours(cnts)\n",
    "output = image.copy()\n",
    "\n",
    "# loop over the contours\n",
    "for c in cnts:\n",
    "    cv2.drawContours(output, [c], -1, (240, 0, 159), 3)\n",
    "\n",
    "    plt.imshow(output)"
   ]
  },
  {
   "cell_type": "markdown",
   "metadata": {},
   "source": [
    "이 이미지의 총 개체 수를 계산하는 것은 윤곽선 리스트 길이 len(cnts)을 확인하는 것으로 간단합니다."
   ]
  },
  {
   "cell_type": "code",
   "execution_count": null,
   "metadata": {},
   "outputs": [],
   "source": [
    "# draw the total number of contours found in purple\n",
    "text = \"I found {} objects!\".format(len(cnts))\n",
    "cv2.putText(output, text, (10, 25),  cv2.FONT_HERSHEY_SIMPLEX, 0.7,\n",
    "                    (240, 0, 159), 2)\n",
    "\n",
    "plt.imshow(output[:, :, ::-1])"
   ]
  },
  {
   "cell_type": "markdown",
   "metadata": {},
   "source": [
    "### Erosions and Dilations"
   ]
  },
  {
   "cell_type": "markdown",
   "metadata": {},
   "source": [
    "침식과 팽창은 일반적으로 이진 이미지의 노이즈를 줄이기 위해 사용됩니다.\n",
    "\n",
    "출력 결과를 보면 테트리스 윤곽선으로 생성된 마스크는 약간 더 작습니다."
   ]
  },
  {
   "cell_type": "code",
   "execution_count": null,
   "metadata": {},
   "outputs": [],
   "source": [
    "mask = thresh.copy()"
   ]
  },
  {
   "cell_type": "code",
   "execution_count": null,
   "metadata": {},
   "outputs": [],
   "source": [
    "# insert code"
   ]
  },
  {
   "cell_type": "code",
   "execution_count": null,
   "metadata": {},
   "outputs": [],
   "source": [
    "plt.imshow(mask, cmap='gray')"
   ]
  },
  {
   "cell_type": "markdown",
   "metadata": {},
   "source": [
    "영역을 팽창(dilations)하려면 cv2.dilate를 사용하십시오."
   ]
  },
  {
   "cell_type": "code",
   "execution_count": null,
   "metadata": {},
   "outputs": [],
   "source": [
    "mask = thresh.copy()"
   ]
  },
  {
   "cell_type": "code",
   "execution_count": null,
   "metadata": {},
   "outputs": [],
   "source": [
    "# insert code"
   ]
  },
  {
   "cell_type": "code",
   "execution_count": null,
   "metadata": {},
   "outputs": [],
   "source": [
    "plt.imshow(mask, cmap='gray')"
   ]
  },
  {
   "cell_type": "markdown",
   "metadata": {},
   "source": [
    "### Masking and bitwise operations"
   ]
  },
  {
   "cell_type": "markdown",
   "metadata": {},
   "source": [
    "마스크를 사용하면 관심이 없는 이미지의 영역을 “mask out” 할 수 있습니다. \n",
    "\n",
    "고려하지 않는 이미지 영역을 숨길 수 있기 때문에 “masks”라고 부릅니다.\n",
    "\n",
    "cv2.bitwise_and를 사용하여 thresh 이미지와 원본 이미지의 픽셀을 비트 단위로 AND 연산을 합니다."
   ]
  },
  {
   "cell_type": "code",
   "execution_count": null,
   "metadata": {},
   "outputs": [],
   "source": [
    "mask = thresh.copy()"
   ]
  },
  {
   "cell_type": "code",
   "execution_count": null,
   "metadata": {},
   "outputs": [],
   "source": [
    "# insert code"
   ]
  },
  {
   "cell_type": "code",
   "execution_count": null,
   "metadata": {},
   "outputs": [],
   "source": [
    "plt.imshow(output[:, :, ::-1])"
   ]
  }
 ],
 "metadata": {
  "kernelspec": {
   "display_name": "Python 3",
   "language": "python",
   "name": "python3"
  },
  "language_info": {
   "codemirror_mode": {
    "name": "ipython",
    "version": 3
   },
   "file_extension": ".py",
   "mimetype": "text/x-python",
   "name": "python",
   "nbconvert_exporter": "python",
   "pygments_lexer": "ipython3",
   "version": "3.7.3"
  }
 },
 "nbformat": 4,
 "nbformat_minor": 2
}
