{
  "nbformat": 4,
  "nbformat_minor": 0,
  "metadata": {
    "kernelspec": {
      "name": "python3",
      "display_name": "Python 3"
    },
    "colab": {
      "name": "st_02_3_NN_Keras_MNIST.ipynb",
      "provenance": []
    },
    "accelerator": "GPU"
  },
  "cells": [
    {
      "cell_type": "markdown",
      "metadata": {
        "id": "pRwTsTQYBwnj",
        "colab_type": "text"
      },
      "source": [
        "# Exercise 3 : Multi-layer Networks with Keras"
      ]
    },
    {
      "cell_type": "markdown",
      "metadata": {
        "id": "JLjSlqCuBwnk",
        "colab_type": "text"
      },
      "source": [
        "### MNIST"
      ]
    },
    {
      "cell_type": "code",
      "metadata": {
        "id": "rMbSSut5Bwnk",
        "colab_type": "code",
        "colab": {}
      },
      "source": [
        "from tensorflow.keras import Sequential\n",
        "from tensorflow.keras.layers import Dense\n",
        "from tensorflow.keras.optimizers import SGD\n",
        "from tensorflow.keras.datasets import mnist\n",
        "from tensorflow.keras.utils import to_categorical\n",
        "\n",
        "from sklearn.metrics import classification_report\n",
        "import matplotlib.pyplot as plt\n",
        "import numpy as np"
      ],
      "execution_count": 1,
      "outputs": []
    },
    {
      "cell_type": "markdown",
      "metadata": {
        "id": "cOJ9jsNjBwnn",
        "colab_type": "text"
      },
      "source": [
        "Load MNIST dataset"
      ]
    },
    {
      "cell_type": "code",
      "metadata": {
        "id": "b5gMnLfEBwnn",
        "colab_type": "code",
        "colab": {
          "base_uri": "https://localhost:8080/",
          "height": 53
        },
        "outputId": "5d35ea15-fe9a-4ab4-cc13-29a37bb820a5"
      },
      "source": [
        "(trainX, trainY), (testX, testY) = mnist.load_data()"
      ],
      "execution_count": 2,
      "outputs": [
        {
          "output_type": "stream",
          "text": [
            "Downloading data from https://storage.googleapis.com/tensorflow/tf-keras-datasets/mnist.npz\n",
            "11493376/11490434 [==============================] - 0s 0us/step\n"
          ],
          "name": "stdout"
        }
      ]
    },
    {
      "cell_type": "markdown",
      "metadata": {
        "id": "at9fqeQJBwnp",
        "colab_type": "text"
      },
      "source": [
        "Modify data to train in MLP model\n",
        "* Change value range from 0 to 1\n",
        "* Change data shape to one dimension"
      ]
    },
    {
      "cell_type": "code",
      "metadata": {
        "id": "VpnKn1RZBwnq",
        "colab_type": "code",
        "colab": {
          "base_uri": "https://localhost:8080/",
          "height": 35
        },
        "outputId": "28c89df5-6e84-45dc-f1e8-8365c9de91b2"
      },
      "source": [
        "trainX.shape"
      ],
      "execution_count": 3,
      "outputs": [
        {
          "output_type": "execute_result",
          "data": {
            "text/plain": [
              "(60000, 28, 28)"
            ]
          },
          "metadata": {
            "tags": []
          },
          "execution_count": 3
        }
      ]
    },
    {
      "cell_type": "code",
      "metadata": {
        "id": "6CSHKEanE012",
        "colab_type": "code",
        "colab": {
          "base_uri": "https://localhost:8080/",
          "height": 283
        },
        "outputId": "3a2c454d-c3a4-43fd-b9fd-704d560cfb24"
      },
      "source": [
        "plt.imshow(trainX[1], cmap='gray')"
      ],
      "execution_count": 5,
      "outputs": [
        {
          "output_type": "execute_result",
          "data": {
            "text/plain": [
              "<matplotlib.image.AxesImage at 0x7f838cb02dd8>"
            ]
          },
          "metadata": {
            "tags": []
          },
          "execution_count": 5
        },
        {
          "output_type": "display_data",
          "data": {
            "image/png": "[encoded data removed]",
            "text/plain": [
              "<Figure size 432x288 with 1 Axes>"
            ]
          },
          "metadata": {
            "tags": [],
            "needs_background": "light"
          }
        }
      ]
    },
    {
      "cell_type": "code",
      "metadata": {
        "id": "LHNgy5QlE0jw",
        "colab_type": "code",
        "colab": {
          "base_uri": "https://localhost:8080/",
          "height": 35
        },
        "outputId": "9c0a9f11-c7f4-4a4a-cdde-3db1c51f565d"
      },
      "source": [
        "trainX.min(), trainX.max()"
      ],
      "execution_count": 9,
      "outputs": [
        {
          "output_type": "execute_result",
          "data": {
            "text/plain": [
              "(0, 255)"
            ]
          },
          "metadata": {
            "tags": []
          },
          "execution_count": 9
        }
      ]
    },
    {
      "cell_type": "code",
      "metadata": {
        "id": "w201KWpRFcmf",
        "colab_type": "code",
        "colab": {}
      },
      "source": [
        "trainX = trainX / 255.0"
      ],
      "execution_count": 10,
      "outputs": []
    },
    {
      "cell_type": "code",
      "metadata": {
        "id": "YyhOq6L8FdJd",
        "colab_type": "code",
        "colab": {
          "base_uri": "https://localhost:8080/",
          "height": 35
        },
        "outputId": "0ca93c9f-89aa-466a-de99-28de65895b27"
      },
      "source": [
        "testX.min(), testX.max()"
      ],
      "execution_count": 13,
      "outputs": [
        {
          "output_type": "execute_result",
          "data": {
            "text/plain": [
              "(0.0, 1.0)"
            ]
          },
          "metadata": {
            "tags": []
          },
          "execution_count": 13
        }
      ]
    },
    {
      "cell_type": "code",
      "metadata": {
        "id": "7kYOyd4pFc_f",
        "colab_type": "code",
        "colab": {}
      },
      "source": [
        "testX = testX / 255.0"
      ],
      "execution_count": 12,
      "outputs": []
    },
    {
      "cell_type": "code",
      "metadata": {
        "id": "IwE54iTGF-v3",
        "colab_type": "code",
        "colab": {
          "base_uri": "https://localhost:8080/",
          "height": 35
        },
        "outputId": "5c90b018-9467-4b0f-d955-ac88ed20d432"
      },
      "source": [
        "trainX.shape"
      ],
      "execution_count": 14,
      "outputs": [
        {
          "output_type": "execute_result",
          "data": {
            "text/plain": [
              "(60000, 28, 28)"
            ]
          },
          "metadata": {
            "tags": []
          },
          "execution_count": 14
        }
      ]
    },
    {
      "cell_type": "code",
      "metadata": {
        "id": "SyLVEzzzFcdu",
        "colab_type": "code",
        "colab": {}
      },
      "source": [
        "trainX = trainX.reshape(-1, 28*28)"
      ],
      "execution_count": 15,
      "outputs": []
    },
    {
      "cell_type": "code",
      "metadata": {
        "id": "JPwSGR3IGMEn",
        "colab_type": "code",
        "colab": {
          "base_uri": "https://localhost:8080/",
          "height": 35
        },
        "outputId": "942a68c1-81db-4689-b425-e36f741a2179"
      },
      "source": [
        "trainX.shape"
      ],
      "execution_count": 16,
      "outputs": [
        {
          "output_type": "execute_result",
          "data": {
            "text/plain": [
              "(60000, 784)"
            ]
          },
          "metadata": {
            "tags": []
          },
          "execution_count": 16
        }
      ]
    },
    {
      "cell_type": "code",
      "metadata": {
        "id": "d9i-4nMtGMdN",
        "colab_type": "code",
        "colab": {}
      },
      "source": [
        "testX = testX.reshape(-1, 28*28)"
      ],
      "execution_count": 17,
      "outputs": []
    },
    {
      "cell_type": "code",
      "metadata": {
        "id": "Vik10K8jGMUY",
        "colab_type": "code",
        "colab": {
          "base_uri": "https://localhost:8080/",
          "height": 35
        },
        "outputId": "8f397cb3-d1bc-4520-8c62-4de3a3720a51"
      },
      "source": [
        "testX.shape, testX.min(), testX.max()"
      ],
      "execution_count": 19,
      "outputs": [
        {
          "output_type": "execute_result",
          "data": {
            "text/plain": [
              "((10000, 784), 0.0, 1.0)"
            ]
          },
          "metadata": {
            "tags": []
          },
          "execution_count": 19
        }
      ]
    },
    {
      "cell_type": "markdown",
      "metadata": {
        "id": "wOiCFfOfBwns",
        "colab_type": "text"
      },
      "source": [
        "Change label to one-hot encoder"
      ]
    },
    {
      "cell_type": "code",
      "metadata": {
        "id": "gY0EETMyBwns",
        "colab_type": "code",
        "colab": {
          "base_uri": "https://localhost:8080/",
          "height": 35
        },
        "outputId": "a7d6050b-7a90-41a5-a1ee-ae15c0ec5f1f"
      },
      "source": [
        "trainY[:5]"
      ],
      "execution_count": 20,
      "outputs": [
        {
          "output_type": "execute_result",
          "data": {
            "text/plain": [
              "array([5, 0, 4, 1, 9], dtype=uint8)"
            ]
          },
          "metadata": {
            "tags": []
          },
          "execution_count": 20
        }
      ]
    },
    {
      "cell_type": "code",
      "metadata": {
        "id": "niXEH3HsHWyA",
        "colab_type": "code",
        "colab": {}
      },
      "source": [
        "trainY = to_categorical(trainY)"
      ],
      "execution_count": 21,
      "outputs": []
    },
    {
      "cell_type": "code",
      "metadata": {
        "id": "GAGvoFlmH2F-",
        "colab_type": "code",
        "colab": {}
      },
      "source": [
        "testY = to_categorical(testY)"
      ],
      "execution_count": 23,
      "outputs": []
    },
    {
      "cell_type": "code",
      "metadata": {
        "id": "T_mLHHICHXLw",
        "colab_type": "code",
        "colab": {
          "base_uri": "https://localhost:8080/",
          "height": 107
        },
        "outputId": "57e28b60-7e5d-44c4-f26a-86117865e608"
      },
      "source": [
        "testY[:5]"
      ],
      "execution_count": 24,
      "outputs": [
        {
          "output_type": "execute_result",
          "data": {
            "text/plain": [
              "array([[0., 0., 0., 0., 0., 0., 0., 1., 0., 0.],\n",
              "       [0., 0., 1., 0., 0., 0., 0., 0., 0., 0.],\n",
              "       [0., 1., 0., 0., 0., 0., 0., 0., 0., 0.],\n",
              "       [1., 0., 0., 0., 0., 0., 0., 0., 0., 0.],\n",
              "       [0., 0., 0., 0., 1., 0., 0., 0., 0., 0.]], dtype=float32)"
            ]
          },
          "metadata": {
            "tags": []
          },
          "execution_count": 24
        }
      ]
    },
    {
      "cell_type": "markdown",
      "metadata": {
        "id": "ku117jgpBwnu",
        "colab_type": "text"
      },
      "source": [
        "Define the 784-256-128-10 architecture using Keras"
      ]
    },
    {
      "cell_type": "code",
      "metadata": {
        "id": "LOIDyMq_Bwnu",
        "colab_type": "code",
        "colab": {}
      },
      "source": [
        "model = Sequential()"
      ],
      "execution_count": 25,
      "outputs": []
    },
    {
      "cell_type": "code",
      "metadata": {
        "id": "oWNCeTNPBwnw",
        "colab_type": "code",
        "colab": {}
      },
      "source": [
        "model.add(Dense(256, activation=\"sigmoid\", input_shape=(784,)))\n",
        "model.add(Dense(128, activation=\"sigmoid\"))\n",
        "model.add(Dense(10, activation=\"softmax\"))"
      ],
      "execution_count": 26,
      "outputs": []
    },
    {
      "cell_type": "code",
      "metadata": {
        "id": "jbKY3XIEJWDS",
        "colab_type": "code",
        "colab": {
          "base_uri": "https://localhost:8080/",
          "height": 269
        },
        "outputId": "658c85c1-8ecf-4b8f-e6ed-5dffdfcf8638"
      },
      "source": [
        "model.summary()"
      ],
      "execution_count": 27,
      "outputs": [
        {
          "output_type": "stream",
          "text": [
            "Model: \"sequential\"\n",
            "_________________________________________________________________\n",
            "Layer (type)                 Output Shape              Param #   \n",
            "=================================================================\n",
            "dense (Dense)                (None, 256)               200960    \n",
            "_________________________________________________________________\n",
            "dense_1 (Dense)              (None, 128)               32896     \n",
            "_________________________________________________________________\n",
            "dense_2 (Dense)              (None, 10)                1290      \n",
            "=================================================================\n",
            "Total params: 235,146\n",
            "Trainable params: 235,146\n",
            "Non-trainable params: 0\n",
            "_________________________________________________________________\n"
          ],
          "name": "stdout"
        }
      ]
    },
    {
      "cell_type": "code",
      "metadata": {
        "id": "mCAgBLmyJct5",
        "colab_type": "code",
        "colab": {
          "base_uri": "https://localhost:8080/",
          "height": 35
        },
        "outputId": "6d20dfc3-2c34-4fc4-b580-fae30ecf08e3"
      },
      "source": [
        "(256 + 1) * 128"
      ],
      "execution_count": 30,
      "outputs": [
        {
          "output_type": "execute_result",
          "data": {
            "text/plain": [
              "32896"
            ]
          },
          "metadata": {
            "tags": []
          },
          "execution_count": 30
        }
      ]
    },
    {
      "cell_type": "markdown",
      "metadata": {
        "id": "GmMyGhFTBwny",
        "colab_type": "text"
      },
      "source": [
        "Train the model usign SGD"
      ]
    },
    {
      "cell_type": "code",
      "metadata": {
        "id": "p1Jsn_FTBwny",
        "colab_type": "code",
        "colab": {}
      },
      "source": [
        "sgd = SGD(0.01)\n",
        "model.compile(loss= \"categorical_crossentropy\", \n",
        "              optimizer=sgd,\n",
        "              metrics=[\"accuracy\"])"
      ],
      "execution_count": 31,
      "outputs": []
    },
    {
      "cell_type": "code",
      "metadata": {
        "scrolled": true,
        "id": "KccYsWNxBwn0",
        "colab_type": "code",
        "colab": {
          "base_uri": "https://localhost:8080/",
          "height": 1000
        },
        "outputId": "7d766ffe-34f4-4154-8e64-5e2c96e48ab2"
      },
      "source": [
        "H = model.fit(trainX, trainY, validation_data=(testX, testY), \n",
        "              epochs=100, batch_size=64, verbose=1)"
      ],
      "execution_count": 35,
      "outputs": [
        {
          "output_type": "stream",
          "text": [
            "Epoch 1/100\n",
            "938/938 [==============================] - 2s 2ms/step - loss: 2.2421 - accuracy: 0.2841 - val_loss: 2.1626 - val_accuracy: 0.3916\n",
            "Epoch 2/100\n",
            "938/938 [==============================] - 2s 2ms/step - loss: 2.0499 - accuracy: 0.5580 - val_loss: 1.8912 - val_accuracy: 0.5896\n",
            "Epoch 3/100\n",
            "938/938 [==============================] - 2s 2ms/step - loss: 1.6899 - accuracy: 0.6385 - val_loss: 1.4572 - val_accuracy: 0.6597\n",
            "Epoch 4/100\n",
            "938/938 [==============================] - 2s 2ms/step - loss: 1.2839 - accuracy: 0.7031 - val_loss: 1.1089 - val_accuracy: 0.7505\n",
            "Epoch 5/100\n",
            "938/938 [==============================] - 2s 2ms/step - loss: 1.0083 - accuracy: 0.7569 - val_loss: 0.8958 - val_accuracy: 0.7824\n",
            "Epoch 6/100\n",
            "938/938 [==============================] - 2s 2ms/step - loss: 0.8375 - accuracy: 0.7928 - val_loss: 0.7591 - val_accuracy: 0.8100\n",
            "Epoch 7/100\n",
            "938/938 [==============================] - 2s 2ms/step - loss: 0.7234 - accuracy: 0.8177 - val_loss: 0.6653 - val_accuracy: 0.8269\n",
            "Epoch 8/100\n",
            "938/938 [==============================] - 2s 2ms/step - loss: 0.6429 - accuracy: 0.8348 - val_loss: 0.5964 - val_accuracy: 0.8475\n",
            "Epoch 9/100\n",
            "938/938 [==============================] - 2s 2ms/step - loss: 0.5838 - accuracy: 0.8476 - val_loss: 0.5451 - val_accuracy: 0.8567\n",
            "Epoch 10/100\n",
            "938/938 [==============================] - 2s 2ms/step - loss: 0.5391 - accuracy: 0.8572 - val_loss: 0.5056 - val_accuracy: 0.8661\n",
            "Epoch 11/100\n",
            "938/938 [==============================] - 2s 3ms/step - loss: 0.5042 - accuracy: 0.8651 - val_loss: 0.4744 - val_accuracy: 0.8718\n",
            "Epoch 12/100\n",
            "938/938 [==============================] - 2s 3ms/step - loss: 0.4762 - accuracy: 0.8713 - val_loss: 0.4496 - val_accuracy: 0.8776\n",
            "Epoch 13/100\n",
            "938/938 [==============================] - 3s 3ms/step - loss: 0.4534 - accuracy: 0.8770 - val_loss: 0.4290 - val_accuracy: 0.8828\n",
            "Epoch 14/100\n",
            "938/938 [==============================] - 2s 3ms/step - loss: 0.4345 - accuracy: 0.8810 - val_loss: 0.4119 - val_accuracy: 0.8859\n",
            "Epoch 15/100\n",
            "938/938 [==============================] - 2s 2ms/step - loss: 0.4186 - accuracy: 0.8847 - val_loss: 0.3970 - val_accuracy: 0.8899\n",
            "Epoch 16/100\n",
            "938/938 [==============================] - 2s 2ms/step - loss: 0.4049 - accuracy: 0.8880 - val_loss: 0.3857 - val_accuracy: 0.8908\n",
            "Epoch 17/100\n",
            "938/938 [==============================] - 2s 2ms/step - loss: 0.3935 - accuracy: 0.8899 - val_loss: 0.3744 - val_accuracy: 0.8952\n",
            "Epoch 18/100\n",
            "938/938 [==============================] - 2s 2ms/step - loss: 0.3832 - accuracy: 0.8928 - val_loss: 0.3655 - val_accuracy: 0.8961\n",
            "Epoch 19/100\n",
            "938/938 [==============================] - 2s 2ms/step - loss: 0.3746 - accuracy: 0.8943 - val_loss: 0.3572 - val_accuracy: 0.8977\n",
            "Epoch 20/100\n",
            "938/938 [==============================] - 2s 2ms/step - loss: 0.3668 - accuracy: 0.8969 - val_loss: 0.3512 - val_accuracy: 0.9009\n",
            "Epoch 21/100\n",
            "938/938 [==============================] - 2s 2ms/step - loss: 0.3599 - accuracy: 0.8980 - val_loss: 0.3437 - val_accuracy: 0.9027\n",
            "Epoch 22/100\n",
            "938/938 [==============================] - 2s 2ms/step - loss: 0.3535 - accuracy: 0.8998 - val_loss: 0.3380 - val_accuracy: 0.9031\n",
            "Epoch 23/100\n",
            "938/938 [==============================] - 2s 3ms/step - loss: 0.3479 - accuracy: 0.9014 - val_loss: 0.3328 - val_accuracy: 0.9050\n",
            "Epoch 24/100\n",
            "938/938 [==============================] - 2s 3ms/step - loss: 0.3426 - accuracy: 0.9020 - val_loss: 0.3293 - val_accuracy: 0.9052\n",
            "Epoch 25/100\n",
            "938/938 [==============================] - 2s 3ms/step - loss: 0.3377 - accuracy: 0.9033 - val_loss: 0.3240 - val_accuracy: 0.9075\n",
            "Epoch 26/100\n",
            "938/938 [==============================] - 2s 3ms/step - loss: 0.3333 - accuracy: 0.9043 - val_loss: 0.3202 - val_accuracy: 0.9073\n",
            "Epoch 27/100\n",
            "938/938 [==============================] - 2s 2ms/step - loss: 0.3292 - accuracy: 0.9058 - val_loss: 0.3163 - val_accuracy: 0.9092\n",
            "Epoch 28/100\n",
            "938/938 [==============================] - 2s 2ms/step - loss: 0.3252 - accuracy: 0.9068 - val_loss: 0.3126 - val_accuracy: 0.9100\n",
            "Epoch 29/100\n",
            "938/938 [==============================] - 2s 2ms/step - loss: 0.3215 - accuracy: 0.9075 - val_loss: 0.3095 - val_accuracy: 0.9099\n",
            "Epoch 30/100\n",
            "938/938 [==============================] - 2s 2ms/step - loss: 0.3180 - accuracy: 0.9081 - val_loss: 0.3062 - val_accuracy: 0.9112\n",
            "Epoch 31/100\n",
            "938/938 [==============================] - 2s 2ms/step - loss: 0.3146 - accuracy: 0.9090 - val_loss: 0.3031 - val_accuracy: 0.9123\n",
            "Epoch 32/100\n",
            "938/938 [==============================] - 2s 2ms/step - loss: 0.3117 - accuracy: 0.9101 - val_loss: 0.3005 - val_accuracy: 0.9140\n",
            "Epoch 33/100\n",
            "938/938 [==============================] - 2s 2ms/step - loss: 0.3087 - accuracy: 0.9110 - val_loss: 0.2976 - val_accuracy: 0.9134\n",
            "Epoch 34/100\n",
            "938/938 [==============================] - 2s 2ms/step - loss: 0.3057 - accuracy: 0.9120 - val_loss: 0.2950 - val_accuracy: 0.9147\n",
            "Epoch 35/100\n",
            "938/938 [==============================] - 2s 2ms/step - loss: 0.3030 - accuracy: 0.9129 - val_loss: 0.2931 - val_accuracy: 0.9155\n",
            "Epoch 36/100\n",
            "938/938 [==============================] - 2s 2ms/step - loss: 0.3003 - accuracy: 0.9134 - val_loss: 0.2906 - val_accuracy: 0.9161\n",
            "Epoch 37/100\n",
            "938/938 [==============================] - 2s 2ms/step - loss: 0.2978 - accuracy: 0.9140 - val_loss: 0.2885 - val_accuracy: 0.9154\n",
            "Epoch 38/100\n",
            "938/938 [==============================] - 2s 2ms/step - loss: 0.2952 - accuracy: 0.9145 - val_loss: 0.2878 - val_accuracy: 0.9161\n",
            "Epoch 39/100\n",
            "938/938 [==============================] - 2s 2ms/step - loss: 0.2930 - accuracy: 0.9155 - val_loss: 0.2843 - val_accuracy: 0.9184\n",
            "Epoch 40/100\n",
            "938/938 [==============================] - 2s 2ms/step - loss: 0.2906 - accuracy: 0.9161 - val_loss: 0.2820 - val_accuracy: 0.9184\n",
            "Epoch 41/100\n",
            "938/938 [==============================] - 2s 2ms/step - loss: 0.2884 - accuracy: 0.9169 - val_loss: 0.2798 - val_accuracy: 0.9178\n",
            "Epoch 42/100\n",
            "938/938 [==============================] - 2s 2ms/step - loss: 0.2863 - accuracy: 0.9175 - val_loss: 0.2783 - val_accuracy: 0.9189\n",
            "Epoch 43/100\n",
            "938/938 [==============================] - 2s 2ms/step - loss: 0.2842 - accuracy: 0.9173 - val_loss: 0.2758 - val_accuracy: 0.9208\n",
            "Epoch 44/100\n",
            "938/938 [==============================] - 2s 2ms/step - loss: 0.2819 - accuracy: 0.9187 - val_loss: 0.2748 - val_accuracy: 0.9211\n",
            "Epoch 45/100\n",
            "938/938 [==============================] - 2s 2ms/step - loss: 0.2801 - accuracy: 0.9188 - val_loss: 0.2723 - val_accuracy: 0.9211\n",
            "Epoch 46/100\n",
            "938/938 [==============================] - 2s 2ms/step - loss: 0.2780 - accuracy: 0.9194 - val_loss: 0.2716 - val_accuracy: 0.9216\n",
            "Epoch 47/100\n",
            "938/938 [==============================] - 2s 2ms/step - loss: 0.2762 - accuracy: 0.9200 - val_loss: 0.2701 - val_accuracy: 0.9218\n",
            "Epoch 48/100\n",
            "938/938 [==============================] - 2s 2ms/step - loss: 0.2743 - accuracy: 0.9206 - val_loss: 0.2679 - val_accuracy: 0.9229\n",
            "Epoch 49/100\n",
            "938/938 [==============================] - 2s 2ms/step - loss: 0.2723 - accuracy: 0.9213 - val_loss: 0.2662 - val_accuracy: 0.9233\n",
            "Epoch 50/100\n",
            "938/938 [==============================] - 2s 2ms/step - loss: 0.2706 - accuracy: 0.9215 - val_loss: 0.2645 - val_accuracy: 0.9244\n",
            "Epoch 51/100\n",
            "938/938 [==============================] - 2s 2ms/step - loss: 0.2688 - accuracy: 0.9223 - val_loss: 0.2630 - val_accuracy: 0.9241\n",
            "Epoch 52/100\n",
            "938/938 [==============================] - 2s 2ms/step - loss: 0.2671 - accuracy: 0.9228 - val_loss: 0.2613 - val_accuracy: 0.9236\n",
            "Epoch 53/100\n",
            "938/938 [==============================] - 2s 2ms/step - loss: 0.2654 - accuracy: 0.9232 - val_loss: 0.2597 - val_accuracy: 0.9245\n",
            "Epoch 54/100\n",
            "938/938 [==============================] - 2s 2ms/step - loss: 0.2635 - accuracy: 0.9234 - val_loss: 0.2577 - val_accuracy: 0.9254\n",
            "Epoch 55/100\n",
            "938/938 [==============================] - 2s 2ms/step - loss: 0.2620 - accuracy: 0.9242 - val_loss: 0.2567 - val_accuracy: 0.9257\n",
            "Epoch 56/100\n",
            "938/938 [==============================] - 2s 2ms/step - loss: 0.2602 - accuracy: 0.9244 - val_loss: 0.2554 - val_accuracy: 0.9254\n",
            "Epoch 57/100\n",
            "938/938 [==============================] - 2s 2ms/step - loss: 0.2586 - accuracy: 0.9249 - val_loss: 0.2538 - val_accuracy: 0.9267\n",
            "Epoch 58/100\n",
            "938/938 [==============================] - 2s 2ms/step - loss: 0.2569 - accuracy: 0.9253 - val_loss: 0.2528 - val_accuracy: 0.9258\n",
            "Epoch 59/100\n",
            "938/938 [==============================] - 2s 2ms/step - loss: 0.2553 - accuracy: 0.9260 - val_loss: 0.2509 - val_accuracy: 0.9282\n",
            "Epoch 60/100\n",
            "938/938 [==============================] - 2s 2ms/step - loss: 0.2537 - accuracy: 0.9263 - val_loss: 0.2496 - val_accuracy: 0.9275\n",
            "Epoch 61/100\n",
            "938/938 [==============================] - 2s 2ms/step - loss: 0.2521 - accuracy: 0.9264 - val_loss: 0.2479 - val_accuracy: 0.9294\n",
            "Epoch 62/100\n",
            "938/938 [==============================] - 2s 2ms/step - loss: 0.2506 - accuracy: 0.9272 - val_loss: 0.2465 - val_accuracy: 0.9290\n",
            "Epoch 63/100\n",
            "938/938 [==============================] - 2s 2ms/step - loss: 0.2489 - accuracy: 0.9271 - val_loss: 0.2449 - val_accuracy: 0.9285\n",
            "Epoch 64/100\n",
            "938/938 [==============================] - 2s 2ms/step - loss: 0.2474 - accuracy: 0.9278 - val_loss: 0.2445 - val_accuracy: 0.9289\n",
            "Epoch 65/100\n",
            "938/938 [==============================] - 2s 2ms/step - loss: 0.2458 - accuracy: 0.9286 - val_loss: 0.2428 - val_accuracy: 0.9302\n",
            "Epoch 66/100\n",
            "938/938 [==============================] - 2s 2ms/step - loss: 0.2443 - accuracy: 0.9288 - val_loss: 0.2414 - val_accuracy: 0.9297\n",
            "Epoch 67/100\n",
            "938/938 [==============================] - 2s 2ms/step - loss: 0.2427 - accuracy: 0.9293 - val_loss: 0.2399 - val_accuracy: 0.9308\n",
            "Epoch 68/100\n",
            "938/938 [==============================] - 2s 2ms/step - loss: 0.2413 - accuracy: 0.9301 - val_loss: 0.2383 - val_accuracy: 0.9305\n",
            "Epoch 69/100\n",
            "938/938 [==============================] - 2s 2ms/step - loss: 0.2398 - accuracy: 0.9302 - val_loss: 0.2370 - val_accuracy: 0.9314\n",
            "Epoch 70/100\n",
            "938/938 [==============================] - 2s 2ms/step - loss: 0.2383 - accuracy: 0.9307 - val_loss: 0.2360 - val_accuracy: 0.9312\n",
            "Epoch 71/100\n",
            "938/938 [==============================] - 2s 2ms/step - loss: 0.2368 - accuracy: 0.9309 - val_loss: 0.2348 - val_accuracy: 0.9329\n",
            "Epoch 72/100\n",
            "938/938 [==============================] - 2s 2ms/step - loss: 0.2352 - accuracy: 0.9320 - val_loss: 0.2334 - val_accuracy: 0.9327\n",
            "Epoch 73/100\n",
            "938/938 [==============================] - 2s 2ms/step - loss: 0.2338 - accuracy: 0.9317 - val_loss: 0.2321 - val_accuracy: 0.9321\n",
            "Epoch 74/100\n",
            "938/938 [==============================] - 2s 2ms/step - loss: 0.2323 - accuracy: 0.9327 - val_loss: 0.2302 - val_accuracy: 0.9330\n",
            "Epoch 75/100\n",
            "938/938 [==============================] - 2s 2ms/step - loss: 0.2309 - accuracy: 0.9328 - val_loss: 0.2293 - val_accuracy: 0.9332\n",
            "Epoch 76/100\n",
            "938/938 [==============================] - 2s 2ms/step - loss: 0.2294 - accuracy: 0.9331 - val_loss: 0.2283 - val_accuracy: 0.9339\n",
            "Epoch 77/100\n",
            "938/938 [==============================] - 2s 2ms/step - loss: 0.2279 - accuracy: 0.9340 - val_loss: 0.2266 - val_accuracy: 0.9345\n",
            "Epoch 78/100\n",
            "938/938 [==============================] - 2s 2ms/step - loss: 0.2265 - accuracy: 0.9342 - val_loss: 0.2251 - val_accuracy: 0.9355\n",
            "Epoch 79/100\n",
            "938/938 [==============================] - 2s 2ms/step - loss: 0.2251 - accuracy: 0.9344 - val_loss: 0.2245 - val_accuracy: 0.9344\n",
            "Epoch 80/100\n",
            "938/938 [==============================] - 2s 2ms/step - loss: 0.2236 - accuracy: 0.9346 - val_loss: 0.2227 - val_accuracy: 0.9354\n",
            "Epoch 81/100\n",
            "938/938 [==============================] - 2s 2ms/step - loss: 0.2223 - accuracy: 0.9353 - val_loss: 0.2211 - val_accuracy: 0.9363\n",
            "Epoch 82/100\n",
            "938/938 [==============================] - 2s 2ms/step - loss: 0.2210 - accuracy: 0.9362 - val_loss: 0.2198 - val_accuracy: 0.9362\n",
            "Epoch 83/100\n",
            "938/938 [==============================] - 2s 2ms/step - loss: 0.2196 - accuracy: 0.9360 - val_loss: 0.2187 - val_accuracy: 0.9365\n",
            "Epoch 84/100\n",
            "938/938 [==============================] - 2s 2ms/step - loss: 0.2181 - accuracy: 0.9364 - val_loss: 0.2176 - val_accuracy: 0.9368\n",
            "Epoch 85/100\n",
            "938/938 [==============================] - 2s 2ms/step - loss: 0.2168 - accuracy: 0.9366 - val_loss: 0.2161 - val_accuracy: 0.9369\n",
            "Epoch 86/100\n",
            "938/938 [==============================] - 2s 2ms/step - loss: 0.2154 - accuracy: 0.9372 - val_loss: 0.2155 - val_accuracy: 0.9368\n",
            "Epoch 87/100\n",
            "938/938 [==============================] - 2s 2ms/step - loss: 0.2141 - accuracy: 0.9380 - val_loss: 0.2141 - val_accuracy: 0.9381\n",
            "Epoch 88/100\n",
            "938/938 [==============================] - 2s 2ms/step - loss: 0.2127 - accuracy: 0.9380 - val_loss: 0.2127 - val_accuracy: 0.9376\n",
            "Epoch 89/100\n",
            "938/938 [==============================] - 2s 2ms/step - loss: 0.2115 - accuracy: 0.9384 - val_loss: 0.2111 - val_accuracy: 0.9378\n",
            "Epoch 90/100\n",
            "938/938 [==============================] - 2s 3ms/step - loss: 0.2101 - accuracy: 0.9388 - val_loss: 0.2104 - val_accuracy: 0.9382\n",
            "Epoch 91/100\n",
            "938/938 [==============================] - 2s 2ms/step - loss: 0.2087 - accuracy: 0.9392 - val_loss: 0.2098 - val_accuracy: 0.9384\n",
            "Epoch 92/100\n",
            "938/938 [==============================] - 2s 2ms/step - loss: 0.2075 - accuracy: 0.9400 - val_loss: 0.2079 - val_accuracy: 0.9383\n",
            "Epoch 93/100\n",
            "938/938 [==============================] - 2s 2ms/step - loss: 0.2062 - accuracy: 0.9401 - val_loss: 0.2067 - val_accuracy: 0.9390\n",
            "Epoch 94/100\n",
            "938/938 [==============================] - 2s 2ms/step - loss: 0.2049 - accuracy: 0.9404 - val_loss: 0.2055 - val_accuracy: 0.9388\n",
            "Epoch 95/100\n",
            "938/938 [==============================] - 2s 2ms/step - loss: 0.2037 - accuracy: 0.9409 - val_loss: 0.2046 - val_accuracy: 0.9390\n",
            "Epoch 96/100\n",
            "938/938 [==============================] - 2s 2ms/step - loss: 0.2024 - accuracy: 0.9414 - val_loss: 0.2035 - val_accuracy: 0.9399\n",
            "Epoch 97/100\n",
            "938/938 [==============================] - 2s 2ms/step - loss: 0.2012 - accuracy: 0.9419 - val_loss: 0.2022 - val_accuracy: 0.9400\n",
            "Epoch 98/100\n",
            "938/938 [==============================] - 2s 2ms/step - loss: 0.1999 - accuracy: 0.9418 - val_loss: 0.2017 - val_accuracy: 0.9398\n",
            "Epoch 99/100\n",
            "938/938 [==============================] - 2s 2ms/step - loss: 0.1988 - accuracy: 0.9424 - val_loss: 0.2000 - val_accuracy: 0.9408\n",
            "Epoch 100/100\n",
            "938/938 [==============================] - 2s 2ms/step - loss: 0.1975 - accuracy: 0.9430 - val_loss: 0.1989 - val_accuracy: 0.9410\n"
          ],
          "name": "stdout"
        }
      ]
    },
    {
      "cell_type": "code",
      "metadata": {
        "id": "CwAKHimbLfJP",
        "colab_type": "code",
        "colab": {
          "base_uri": "https://localhost:8080/",
          "height": 35
        },
        "outputId": "cea2eb21-b14f-4d55-fdf5-fa277ff6a98a"
      },
      "source": [
        "(trainX.shape[0] / 64) * 100"
      ],
      "execution_count": 34,
      "outputs": [
        {
          "output_type": "execute_result",
          "data": {
            "text/plain": [
              "93750.0"
            ]
          },
          "metadata": {
            "tags": []
          },
          "execution_count": 34
        }
      ]
    },
    {
      "cell_type": "markdown",
      "metadata": {
        "id": "3EZglMBnBwn2",
        "colab_type": "text"
      },
      "source": [
        "Evaluate the trained network"
      ]
    },
    {
      "cell_type": "code",
      "metadata": {
        "id": "_IR35EMXBwn2",
        "colab_type": "code",
        "colab": {}
      },
      "source": [
        "model.evaluate(...)"
      ],
      "execution_count": null,
      "outputs": []
    },
    {
      "cell_type": "code",
      "metadata": {
        "id": "zm2qWSp7Bwn4",
        "colab_type": "code",
        "colab": {}
      },
      "source": [
        "predictions = model.predict(...)"
      ],
      "execution_count": null,
      "outputs": []
    },
    {
      "cell_type": "markdown",
      "metadata": {
        "id": "6i_K1woBBwn6",
        "colab_type": "text"
      },
      "source": [
        "Use `classification_report` to measure the performance of your model."
      ]
    },
    {
      "cell_type": "code",
      "metadata": {
        "id": "td7oPxPzBwn6",
        "colab_type": "code",
        "colab": {}
      },
      "source": [
        "print(classification_report(...))"
      ],
      "execution_count": null,
      "outputs": []
    },
    {
      "cell_type": "markdown",
      "metadata": {
        "id": "3batlgBEBwn8",
        "colab_type": "text"
      },
      "source": [
        "Plot the training loss and accuracy"
      ]
    },
    {
      "cell_type": "code",
      "metadata": {
        "id": "BTHnBVfmBwn8",
        "colab_type": "code",
        "colab": {}
      },
      "source": [
        "H.history.keys()"
      ],
      "execution_count": null,
      "outputs": []
    },
    {
      "cell_type": "code",
      "metadata": {
        "id": "lgFp8Z-yBwn-",
        "colab_type": "code",
        "colab": {}
      },
      "source": [
        "plt.style.use(\"ggplot\")\n",
        "plt.figure()\n",
        "\n",
        "...\n",
        "\n",
        "plt.title(\"Training Loss and Accuracy\")\n",
        "plt.xlabel(\"Epoch #\")\n",
        "plt.ylabel(\"Loss/Accuracy\")\n",
        "plt.legend()\n",
        "plt.show()"
      ],
      "execution_count": null,
      "outputs": []
    },
    {
      "cell_type": "code",
      "metadata": {
        "id": "G1b3ZUW_BwoA",
        "colab_type": "code",
        "colab": {}
      },
      "source": [
        ""
      ],
      "execution_count": null,
      "outputs": []
    }
  ]
}